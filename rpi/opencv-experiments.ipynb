{
 "cells": [
  {
   "cell_type": "code",
   "execution_count": 35,
   "metadata": {},
   "outputs": [
    {
     "name": "stdout",
     "output_type": "stream",
     "text": [
      "shapes: (640, 800, 3) (380, 308, 3)\n"
     ]
    }
   ],
   "source": [
    "'''\n",
    "Smaller Image on Top.\n",
    "'''\n",
    "\n",
    "import redis; import numpy as np; import cv2; import json; from matplotlib import pyplot as plt\n",
    "def multi_window(images):\n",
    "    x, y = 0, 0 \n",
    "    for i, (name, image) in enumerate(images):\n",
    "        cv2.namedWindow(name)\n",
    "        cv2.imshow(name, image)\n",
    "        cv2.moveWindow(name, x, y)\n",
    "        odd = (i % 2)\n",
    "        x, y = (x + odd*400), (y + abs(1-odd)*300)\n",
    "    k = cv2.waitKey(0)\n",
    "    cv2.destroyAllWindows()\n",
    "\n",
    "graffiti = img1 = cv2.imread('/Users/averagehat/Dropbox/video-synth/rpi/opencv/samples/data/graf3.png')\n",
    "img2 = cv2.imread('/Users/averagehat/Dropbox/video-synth/rpi/opencv/samples/data/ml.png')\n",
    "# img2 = cv2.resize(_img2, img1.shape[:2][::-1])\n",
    "print(f'shapes: {img1.shape} {img2.shape}') # create circle mask, center, radius, fill color, size of the border # cv2.circle(mask,(r,r), r, (255,255,255),-1)\n",
    "# I want to put logo on top-left corner, So I create a ROI\n",
    "rows,cols,channels = img2.shape\n",
    "roi = img1[0:rows, 0:cols ]\n",
    "# Now create a mask of logo and create its inverse mask also\n",
    "img2gray = cv2.cvtColor(img2,cv2.COLOR_BGR2GRAY)\n",
    "ret, mask = cv2.threshold(img2gray, 240, 255, cv2.THRESH_BINARY)\n",
    "# Now black-out the area of logo in ROI\n",
    "img1_bg = cv2.bitwise_and(roi,roi,mask = mask)\n",
    "\n",
    "# Take only region of logo from logo image.\n",
    "img2_fg = cv2.bitwise_and(img2,img2,mask = ~mask)\n",
    "\n",
    "# Put logo in ROI and modify the main image\n",
    "dst = cv2.add(img1_bg,img2_fg)\n",
    "img1[0:rows, 0:cols ] = dst\n",
    "\n",
    "#cv2.imshow('img1', img1)\n",
    "#cv2.waitKey(0)\n",
    "#cv2.destroyAllWindows()"
   ]
  },
  {
   "cell_type": "code",
   "execution_count": 36,
   "metadata": {},
   "outputs": [
    {
     "data": {
      "text/plain": [
       "'\\nimg2_fg == yellowed\\nimg1_bg should be the inverse mask; no, it will be the original image with the cropped in black\\n\\nimg1_bg = cv2.bitwise_and(roi,roi,mask = mask)\\n'"
      ]
     },
     "execution_count": 36,
     "metadata": {},
     "output_type": "execute_result"
    }
   ],
   "source": [
    "multi_window([('img1_bg', img1_bg), ('img2_fg', img2_fg), ('mask', mask), ('dst', dst), ('img1', img1)])\n",
    "'''\n",
    "img2_fg == yellowed\n",
    "img1_bg should be the inverse mask; no, it will be the original image with the cropped in black\n",
    "img1_bg = cv2.bitwise_and(roi,roi,mask = mask)\n",
    "so the same thing is working. just need to move the ROI I guess.\n",
    "'''"
   ]
  },
  {
   "cell_type": "code",
   "execution_count": 38,
   "metadata": {},
   "outputs": [],
   "source": [
    "'''\n",
    "Isolate Blue,\n",
    "Convert Isolated Blue -> Yellow,\n",
    "Put Yellow Back on Original\n",
    "'''\n",
    "\n",
    "logo = cv2.imread('/Users/averagehat/Dropbox/video-synth/rpi/opencv/samples/data/opencv-logo-white.png')\n",
    "\n",
    "# define range of blue color in HSV\n",
    "lower_blue = np.array([110,50,50])\n",
    "upper_blue = np.array([130,255,255])\n",
    "\n",
    "# Threshold the HSV image to get only blue colors\n",
    "hsv = cv2.cvtColor(logo, cv2.COLOR_BGR2HSV)\n",
    "mask = cv2.inRange(hsv, lower_blue, upper_blue)\n",
    "\n",
    "# Bitwise-AND mask and original image\n",
    "just_blue = cv2.bitwise_and(logo,logo, mask= mask)\n",
    "\n",
    "# res = (logo | [ 60, 255, 255])\n",
    "coloured = logo.copy()\n",
    "coloured[mask == 255] = (0, 255, 255)\n",
    "# res = cv2.bitwise_and(logo,np.array([0, 0, 255]), mask= mask)\n",
    "\n",
    "# img1_bg = cv2.bitwise_and(roi,roi,mask = mask)\n",
    "\n",
    "multi_window( [('logo', logo), ('yellowed', coloured), ('mask', mask), ('InvMask', ~mask), ('just_blue', just_blue)])\n"
   ]
  },
  {
   "cell_type": "code",
   "execution_count": 44,
   "metadata": {},
   "outputs": [],
   "source": [
    "cv2.warpAffine?"
   ]
  },
  {
   "cell_type": "code",
   "execution_count": 46,
   "metadata": {},
   "outputs": [
    {
     "data": {
      "text/plain": [
       "(222, 180, 3)"
      ]
     },
     "execution_count": 46,
     "metadata": {},
     "output_type": "execute_result"
    }
   ],
   "source": [
    "og_bg.shape"
   ]
  },
  {
   "cell_type": "code",
   "execution_count": 49,
   "metadata": {},
   "outputs": [],
   "source": [
    "rows, cols, clrchannels = og_bg.shape\n",
    "movementM = np.float32([[1,0,-100],[0,1,-50]])\n",
    "# og_bg = cv2.bitwise_and(logo,logo, mask= ~mask)\n",
    "# move the isolated color first before making the mask\n",
    "moved_mask = cv2.warpAffine(mask,movementM,dsize=(cols, rows)) \n",
    "moved_bg = cv2.bitwise_and(logo,logo, mask= ~moved_mask)\n",
    "moved_bg = \n",
    "multi_window( [('bg', bg), ('moved_bg', moved_bg)])"
   ]
  },
  {
   "cell_type": "code",
   "execution_count": null,
   "metadata": {},
   "outputs": [],
   "source": [
    "'''\n",
    "Move a circle using warp affine.\n",
    "Working! Assumes both images want relative same place\n",
    "Now is this necessary? Because we get the coordinates from arduino instead; \n",
    "we just want to use similar logic by changing how the mask is created I think\n",
    "'''\n",
    "\n",
    "\n",
    "graffiti = cv2.imread('/Users/averagehat/Dropbox/video-synth/rpi/opencv/samples/data/graf3.png')\n",
    "x, y, r = 30, 300, 40\n",
    "# crop image as a square\n",
    "cropped = img2[y:y+r*2, x:x+r*2]\n",
    "rows,cols,channels = cropped.shape\n",
    "# roi = graffiti[0:rows, 0:cols ]\n",
    "roi = graffiti[y:y+r*2, x:x+r*2]\n",
    "# create a mask\n",
    "mask = np.full((cropped.shape[0], cropped.shape[1]), 0, dtype=np.uint8) \n",
    "# create circle mask, center, radius, fill color, size of the border\n",
    "cv2.circle(mask,(r,r), r, (255,255,255),-1)\n",
    "# get only the inside pixels\n",
    "fg = cv2.bitwise_or(cropped, cropped, mask=mask)\n",
    "# Now create a mask of logo and create its inverse mask also\n",
    "graffiti_bg = cv2.bitwise_and(roi,roi,mask =~mask)\n",
    "# graffiti_bg = cv2.bitwise_or(graffiti, graffiti, mask=mask)\n",
    "# background = np.full(img.shape, 255, dtype=np.uint8)\n",
    "# bk = cv2.bitwise_or(background, background, mask=mask)\n",
    "# Put logo in ROI and modify the main image\n",
    "dst = cv2.add(graffiti_bg,fg)\n",
    "new_img = graffiti.copy()\n",
    "new_img[y:y+r*2, x:x+r*2] = dst\n",
    "# new_img[0:rows, 0:cols ] = dst\n",
    "# new_img[0:rows, 0:cols ] = dst\n",
    "# ('graffiti_bg', graffiti_bg),\n",
    "multi_window( [  ('new_img', new_img), ('fg', fg)])\n",
    "# rows, cols, clrchannels = logo.shape\n",
    "# moved_og = cv2.warpAffine(logo,movementM,dsize=(cols, rows)) \n",
    "# # moved_hsv = cv2.cvtColor(moved_og, cv2.COLOR_BGR2HSV)   # this line changes, and define hsv by creating a circle and mask\n",
    "# moved_mask = cv2.inRange(moved_hsv, lower_blue, upper_blue)\n",
    "# moved_bg = cv2.bitwise_and(logo,logo, mask= ~moved_mask)\n",
    "# \n",
    "# # Bitwise-AND mask and original image\n",
    "# just_blue = cv2.bitwise_and(moved_og,moved_og, mask= moved_mask)\n",
    "# \n",
    "# # res = (logo | [ 60, 255, 255])\n",
    "# coloured = moved_bg.copy()\n",
    "# coloured[moved_mask == 255] = (0, 255, 255)\n",
    "# # res = cv2.bitwise_and(logo,np.array([0, 0, 255]), mask= mask)\n",
    "# moved_blue_overlap = moved_bg | just_blue\n",
    "# \n",
    "# multi_window( [('logo', logo), ('yellowed', coloured), ('moved_mask', moved_mask),\n",
    "#                ('moved_bg', moved_bg), ('just_blue', just_blue), ('moved_blue_overlap', moved_blue_overlap)])"
   ]
  },
  {
   "cell_type": "code",
   "execution_count": 55,
   "metadata": {},
   "outputs": [],
   "source": [
    "'''\n",
    "Finished, move all of a color etc. \n",
    "'''\n",
    "\n",
    "\n",
    "# Threshold the HSV image to get only blue colors\n",
    "rows, cols, clrchannels = logo.shape\n",
    "moved_og = cv2.warpAffine(logo,movementM,dsize=(cols, rows)) \n",
    "moved_hsv = cv2.cvtColor(moved_og, cv2.COLOR_BGR2HSV)   # this line changes, and define hsv by creating a circle and mask\n",
    "moved_mask = cv2.inRange(moved_hsv, lower_blue, upper_blue)\n",
    "moved_bg = cv2.bitwise_and(logo,logo, mask= ~moved_mask)\n",
    "\n",
    "# Bitwise-AND mask and original image\n",
    "just_blue = cv2.bitwise_and(moved_og,moved_og, mask= moved_mask)\n",
    "\n",
    "# res = (logo | [ 60, 255, 255])\n",
    "coloured = moved_bg.copy()\n",
    "coloured[moved_mask == 255] = (0, 255, 255)\n",
    "# res = cv2.bitwise_and(logo,np.array([0, 0, 255]), mask= mask)\n",
    "moved_blue_overlap = moved_bg | just_blue\n",
    "\n",
    "multi_window( [('logo', logo), ('yellowed', coloured), ('moved_mask', moved_mask),\n",
    "               ('moved_bg', moved_bg), ('just_blue', just_blue), ('moved_blue_overlap', moved_blue_overlap)])"
   ]
  },
  {
   "cell_type": "code",
   "execution_count": null,
   "metadata": {},
   "outputs": [],
   "source": [
    "\n",
    "mask = cv2.inRange(hsv, lower_blue, upper_blue)\n",
    "movmentM = np.float32([[1,0,100],[0,1,50]])\n",
    "dst = cv.warpAffine(coloured,movementM,coloured.shape)\n"
   ]
  },
  {
   "cell_type": "code",
   "execution_count": null,
   "metadata": {},
   "outputs": [],
   "source": [
    "\n",
    "rows,cols,channels = img2.shape\n",
    "roi = img1[0:rows, 0:cols ]\n",
    "# Now create a mask of logo and create its inverse mask also\n",
    "img2gray = cv2.cvtColor(img2,cv2.COLOR_BGR2GRAY)\n",
    "ret, mask = cv2.threshold(img2gray, 240, 255, cv2.THRESH_BINARY)\n",
    "# Now black-out the area of logo in ROI\n",
    "img1_bg = cv2.bitwise_and(roi,roi,mask = mask)\n",
    "\n",
    "# Take only region of logo from logo image.\n",
    "img2_fg = cv2.bitwise_and(img2,img2,mask = ~mask)\n",
    "\n",
    "# Put logo in ROI and modify the main image\n",
    "dst = cv2.add(img1_bg,img2_fg)\n",
    "img1[0:rows, 0:cols ] = dst\n"
   ]
  },
  {
   "cell_type": "code",
   "execution_count": null,
   "metadata": {},
   "outputs": [],
   "source": [
    "'''\n",
    "To gray\n",
    "logo2gray        = cv2.cvtColor(logo, cv2.COLOR_BGR2GRAY)\n",
    "Resize\n",
    "resized_image = cv2.resize(img2, img1.shape[:2]) \n",
    "\n",
    "# gives bad color\n",
    "# plt.subplot(122),plt.imshow(final),plt.title('Final')\n",
    "'''\n",
    "# >>> green = np.uint8([[[0,255,0 ]]])\n",
    "# >>> hsv_green = cv2.cvtColor(green,cv2.COLOR_BGR2HSV)\n",
    "# >>> print hsv_green\n",
    "# [[[ 60 255 255]]]\n",
    "# Now you take [H-10, 100,100] and [H+10, 255, 255]\n",
    "# Convert BGR to HSV"
   ]
  }
 ],
 "metadata": {
  "kernelspec": {
   "display_name": "Python 3",
   "language": "python",
   "name": "python3"
  },
  "language_info": {
   "codemirror_mode": {
    "name": "ipython",
    "version": 3
   },
   "file_extension": ".py",
   "mimetype": "text/x-python",
   "name": "python",
   "nbconvert_exporter": "python",
   "pygments_lexer": "ipython3",
   "version": "3.8.0"
  }
 },
 "nbformat": 4,
 "nbformat_minor": 2
}
