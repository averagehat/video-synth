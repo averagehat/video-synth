{
 "cells": [
  {
   "cell_type": "code",
   "execution_count": 1,
   "metadata": {},
   "outputs": [],
   "source": [
    "import redis\n",
    "import numpy as np\n",
    "import cv2\n",
    "import json\n",
    "# from matplotlib import pyplot as plt\n",
    "r = redis.Redis(host='localhost', port=7777, db=0)\n",
    "listener = r.pubsub()\n",
    "faceCascade = cv2.CascadeClassifier(\"haarcascade_frontalface_default.xml\")"
   ]
  },
  {
   "cell_type": "code",
   "execution_count": null,
   "metadata": {
    "scrolled": true
   },
   "outputs": [
    {
     "name": "stdout",
     "output_type": "stream",
     "text": [
      "{'type': 'subscribe', 'pattern': None, 'channel': b'rpi-input', 'data': 1}\n"
     ]
    }
   ],
   "source": [
    "#cap = cv2.VideoCapture('moviepy/media/video_with_failing_audio.mp4')\n",
    "cap = cv2.VideoCapture(0)\n",
    "cap.set(cv2.CAP_PROP_FOURCC,cv2.VideoWriter_fourcc('M','J','P','G'))\n",
    "fourcc = cv2.VideoWriter_fourcc(*'XVID')\n",
    "\n",
    "# out = cv2.VideoWriter('output.avi',fourcc, 20.0, (640,480))\n",
    "RECORDING = False\n",
    "VIDNUMBER = 0\n",
    "GRAY = False\n",
    "outname = f'output.avi'\n",
    "listener.subscribe('rpi-input')\n",
    "# settings = Effects(False, None, RGBA(0, 0, 0, 1))\n",
    "def scaleBetween(unscaledNum, minAllowed, maxAllowed, min, max):\n",
    "  return (maxAllowed - minAllowed) * (unscaledNum - min) / (max - min) + minAllowed;\n",
    "settings = {\n",
    "    'grayscale' : False,\n",
    "    'text' : None,\n",
    "    'meter': 0.0,\n",
    "    'mirror': False,\n",
    "    'eval' : None\n",
    "}        \n",
    "def get_new_settings(old, raw_data):\n",
    "    new = json.loads(raw_data)\n",
    "    return {\n",
    "        'grayscale' : (not old['grayscale']) if new.get('graytoggle') else old['grayscale'],\n",
    "        'mirror' : (not old['mirror']) if new.get('flip') else old['mirror'],\n",
    "        'text' : new.get('text', old['text']),\n",
    "        'meter' : new.get('meter', old['meter']),\n",
    "        'eval' : new.get('eval'),\n",
    "        'x': new.get('x', old.get('x')),\n",
    "        'y' : new.get('y', old.get('y'))\n",
    "    }\n",
    "# cv2.circle(img, center, radius, color, thickness=1, lineType=8, shift=0)\n",
    "def apply_effects(settings, frame):\n",
    "    if settings['grayscale']:\n",
    "        frame = cv2.cvtColor(frame, cv2.COLOR_BGR2GRAY)\n",
    "    if settings['mirror']:\n",
    "        frame = cv2.flip(frame, 1)\n",
    "    if settings.get('x') or settings.get('y'):\n",
    "        x, y = settings.get('x', 240), settings.get('y', 240)\n",
    "        scaled_x = int(scaleBetween(x, 0, 400, 0, 1050))\n",
    "        scaled_y = int(scaleBetween(x, 0, 400, 0, 1050))\n",
    "        print(f'scaled: {scaled_x}, {scaled_y}')\n",
    "        cv2.circle(frame, (scaled_x, scaled_y), 20, (255, 0, 0), 2)\n",
    "            #frame.\n",
    "    if settings['text']:\n",
    "        # frame = cv2.text(text) \n",
    "        gray = cv2.cvtColor(raw_frame, cv2.COLOR_BGR2GRAY)\n",
    "        faces = faceCascade.detectMultiScale(\n",
    "            gray,\n",
    "            scaleFactor=1.1,\n",
    "            minNeighbors=5,\n",
    "            minSize=(30, 30),\n",
    "            flags=cv2.CASCADE_SCALE_IMAGE\n",
    "        )\n",
    "    \n",
    "        # Draw a rectangle around the faces\n",
    "        for (x, y, w, h) in faces:\n",
    "            cv2.rectangle(frame, (x, y), (x+w, y+h), (0, 255, 0), 2)\n",
    "    if settings['eval']:\n",
    "        frame = eval(settings['eval'])\n",
    "        # cv2.circle(frame, (settings['eval']['x'], settings['eval']['y']), 20, (255, 0, 0), 2)\n",
    "    return frame\n",
    "        \n",
    "#def run_cam(thread_print): \n",
    "if True:\n",
    "   # global settings\n",
    "    while(cap.isOpened()):\n",
    "    \n",
    "        ret, raw_frame = cap.read()\n",
    "        key = cv2.waitKey(1)\n",
    "        if key & 0xFF == ord('q'): break\n",
    "            \n",
    "        if ret:\n",
    "            msg = listener.get_message()\n",
    "            if msg: print(msg)\n",
    "            if msg and msg.get('type') == 'message':\n",
    "                data, channel, msg_type = msg['data'], msg['channel'], msg['type']\n",
    "                \n",
    "                settings = get_new_settings(settings, data)\n",
    "                print(f'New Settings: {settings}')\n",
    "            frame = apply_effects(settings, raw_frame)\n",
    "          #  f'= cv2.circle{(\"frame\", center_coordinates, radius, color, thickness) }'\n",
    "           \n",
    "           # img2 = img[:,:,::-1]\n",
    "           # plt.imshow(img2)\n",
    "            cv2.imshow(\"Image\", frame)\n",
    "            #if RECORDING:\n",
    "            #    out.write(frame)\n",
    "        else:\n",
    "           print('no video')\n",
    "           cap.set(cv2.CAP_PROP_POS_FRAMES, 0)\n",
    "\n",
    "    \n",
    "   #     elif key & 0xFF == ord('r'):\n",
    "           # cap.set(cv2.CAP_PROP_POS_FRAMES, 0)\n",
    "            #RECORDING = not RECORDING\n",
    "            #if RECORDING:\n",
    "            #    VIDNUMBER += 1\n",
    "            #    outname = f'output-{VIDNUMBER}.avi'\n",
    "            #    out = cv2.VideoWriter(outname,fourcc, 20.0, (640,480))\n",
    "            #else:\n",
    "            #    out.release() \n",
    "    cap.release()\n",
    "#run_cam(print)"
   ]
  },
  {
   "cell_type": "code",
   "execution_count": null,
   "metadata": {},
   "outputs": [],
   "source": [
    "len(raw_frame[0,:])"
   ]
  },
  {
   "cell_type": "code",
   "execution_count": null,
   "metadata": {},
   "outputs": [],
   "source": [
    "\n",
    "scaleBetween(1000, 0, 640, 0, 1050)"
   ]
  },
  {
   "cell_type": "code",
   "execution_count": null,
   "metadata": {
    "scrolled": true
   },
   "outputs": [],
   "source": [
    "# https://www.geeksforgeeks.org/circle-detection-using-opencv-python/\n",
    "# f'= cv2.circle{(\"frame\", center_coordinates, radius, color, thickness_in_pixels) }'\n",
    "   cv2.circle('frame', (120, 50), 20, (255, 0, 0), 2)"
   ]
  },
  {
   "cell_type": "code",
   "execution_count": null,
   "metadata": {},
   "outputs": [],
   "source": [
    "plt.show()"
   ]
  },
  {
   "cell_type": "code",
   "execution_count": null,
   "metadata": {},
   "outputs": [],
   "source": [
    "\n",
    "cap.release()"
   ]
  },
  {
   "cell_type": "code",
   "execution_count": null,
   "metadata": {},
   "outputs": [],
   "source": [
    "from nbmultitask import ThreadWithLogAndControls\n",
    "task2 = ThreadWithLogAndControls(target=run_cam, name=\"runcam func\")\n",
    "task2.start()"
   ]
  },
  {
   "cell_type": "code",
   "execution_count": null,
   "metadata": {},
   "outputs": [],
   "source": [
    "from time import sleep\n",
    "\n",
    "# the target function will be passed a function called `thread_print`\n",
    "def fn(thread_print):\n",
    "    i = 1\n",
    "    # be careful with loops... (in order for the stop button to work)\n",
    "    while i <= 5:\n",
    "        thread_print('%i...' % i)\n",
    "        sleep(1.5)\n",
    "        i+=1\n",
    "\n",
    "task = ThreadWithLogAndControls(target=fn, name=\"do some stuff\")"
   ]
  },
  {
   "cell_type": "code",
   "execution_count": null,
   "metadata": {},
   "outputs": [],
   "source": [
    "cap.release()"
   ]
  },
  {
   "cell_type": "code",
   "execution_count": null,
   "metadata": {},
   "outputs": [],
   "source": [
    "task2.watch()\n"
   ]
  },
  {
   "cell_type": "markdown",
   "metadata": {},
   "source": [
    "type: One of the following: 'subscribe', 'unsubscribe', 'psubscribe', 'punsubscribe', 'message', 'pmessage'\n",
    "channel: The channel [un]subscribed to or the channel a message was published to\n",
    "pattern: The pattern that matched a published message's channel. Will be None in all cases except for 'pmessage' types.\n",
    "data: The message data. With [un]subscribe messages, this value will be the number of channels and patterns the connection is currently subscribed to. With [p]message messages, this value will be the actual published message."
   ]
  },
  {
   "cell_type": "code",
   "execution_count": null,
   "metadata": {},
   "outputs": [],
   "source": [
    "\n",
    "settings['grayscale'] = True"
   ]
  },
  {
   "cell_type": "code",
   "execution_count": null,
   "metadata": {},
   "outputs": [],
   "source": [
    "# https://stackoverflow.com/questions/18064914/how-to-use-opencv-python-to-blur-faces"
   ]
  },
  {
   "cell_type": "code",
   "execution_count": null,
   "metadata": {},
   "outputs": [],
   "source": [
    "image = cv2.imread(imagepath)\n",
    "result_image = image.copy()\n",
    "\n",
    "# Specify the trained cascade classifier\n",
    "\n",
    "\n",
    "\n",
    "# Create a cascade classifier\n",
    "face_cascade.load(face_cascade_name)\n",
    "\n",
    "#Preprocess the image\n",
    "grayimg = cv2.cvtColor(image, cv2.cv.CV_BGR2GRAY)\n",
    "grayimg = cv2.equalizeHist(grayimg)\n",
    "\n",
    "#Run the classifiers\n",
    "faces = face_cascade.detectMultiScale(grayimg, 1.1, 2, 0|cv2.cv.CV_HAAR_SCALE_IMAGE, (30, 30))\n",
    "\n",
    "print \"Faces detected\"\n",
    "\n",
    "if len(faces) != 0:         # If there are faces in the images\n",
    "    for f in faces:         # For each face in the image\n",
    "    img[startX:endX, startY:endY] = cv2.blur(img[startX:endX, startY:endY], (23, 23))\n",
    "\n",
    "        # Get the origin co-ordinates and the length and width till where the face extends\n",
    "        x, y, w, h = f\n",
    "\n",
    "        # get the rectangle img around all the faces\n",
    "        cv2.rectangle(image, (x,y), (x+w,y+h), (255,255,0), 5)\n",
    "        sub_face = image[y:y+h, x:x+w]\n",
    "        # apply a gaussian blur on this new recangle image\n",
    "        sub_face = cv2.GaussianBlur(sub_face,(23, 23), 30)\n",
    "        # merge this blurry rectangle to our final image\n",
    "        result_image[y:y+sub_face.shape[0], x:x+sub_face.shape[1]] = sub_face\n",
    "        face_file_name = \"./face_\" + str(y) + \".jpg\"\n",
    "        cv2.imwrite(face_file_name, sub_face)\n"
   ]
  },
  {
   "cell_type": "code",
   "execution_count": null,
   "metadata": {},
   "outputs": [],
   "source": [
    "\n",
    "#listener.unsubscribe('rpi-input')\n",
    "# def handler()\n",
    "from dataclasses import dataclass\n",
    "\n",
    "@dataclass\n",
    "class RGBA:\n",
    "    r: float\n",
    "    g: float\n",
    "    b: float\n",
    "    a: float\n",
    "        \n",
    "from typing import Tuple\n",
    "        \n",
    "@dataclass\n",
    "class Effects:\n",
    "    gray: bool\n",
    "    text: str\n",
    "    rgba: RGBA"
   ]
  }
 ],
 "metadata": {
  "kernelspec": {
   "display_name": "Python 3",
   "language": "python",
   "name": "python3"
  },
  "language_info": {
   "codemirror_mode": {
    "name": "ipython",
    "version": 3
   },
   "file_extension": ".py",
   "mimetype": "text/x-python",
   "name": "python",
   "nbconvert_exporter": "python",
   "pygments_lexer": "ipython3",
   "version": "3.7.3"
  }
 },
 "nbformat": 4,
 "nbformat_minor": 2
}
