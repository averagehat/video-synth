{
 "cells": [
  {
   "cell_type": "code",
   "execution_count": null,
   "metadata": {},
   "outputs": [],
   "source": []
  },
  {
   "cell_type": "code",
   "execution_count": 1,
   "metadata": {},
   "outputs": [],
   "source": [
    "import redis\n",
    "import numpy as np\n",
    "import cv2\n",
    "import json\n",
    "r = redis.Redis(host='localhost', port=6379, db=0)\n",
    "listener = r.pubsub()\n",
    "faceCascade = cv2.CascadeClassifier(\"./haarcascade_frontalface_alt.xml\")"
   ]
  },
  {
   "cell_type": "code",
   "execution_count": 2,
   "metadata": {
    "scrolled": true
   },
   "outputs": [
    {
     "name": "stdout",
     "output_type": "stream",
     "text": [
      "no video\n",
      "no video\n",
      "no video\n"
     ]
    },
    {
     "ename": "KeyboardInterrupt",
     "evalue": "",
     "output_type": "error",
     "traceback": [
      "\u001b[0;31m---------------------------------------------------------------------------\u001b[0m",
      "\u001b[0;31mKeyboardInterrupt\u001b[0m                         Traceback (most recent call last)",
      "\u001b[0;32m<ipython-input-2-cbdab734a3ec>\u001b[0m in \u001b[0;36m<module>\u001b[0;34m\u001b[0m\n\u001b[1;32m     41\u001b[0m \u001b[0;32mwhile\u001b[0m\u001b[0;34m(\u001b[0m\u001b[0mcap\u001b[0m\u001b[0;34m.\u001b[0m\u001b[0misOpened\u001b[0m\u001b[0;34m(\u001b[0m\u001b[0;34m)\u001b[0m\u001b[0;34m)\u001b[0m\u001b[0;34m:\u001b[0m\u001b[0;34m\u001b[0m\u001b[0;34m\u001b[0m\u001b[0m\n\u001b[1;32m     42\u001b[0m \u001b[0;34m\u001b[0m\u001b[0m\n\u001b[0;32m---> 43\u001b[0;31m     \u001b[0mret\u001b[0m\u001b[0;34m,\u001b[0m \u001b[0mraw_frame\u001b[0m \u001b[0;34m=\u001b[0m \u001b[0mcap\u001b[0m\u001b[0;34m.\u001b[0m\u001b[0mread\u001b[0m\u001b[0;34m(\u001b[0m\u001b[0;34m)\u001b[0m\u001b[0;34m\u001b[0m\u001b[0;34m\u001b[0m\u001b[0m\n\u001b[0m\u001b[1;32m     44\u001b[0m     \u001b[0;32mif\u001b[0m \u001b[0mret\u001b[0m\u001b[0;34m:\u001b[0m\u001b[0;34m\u001b[0m\u001b[0;34m\u001b[0m\u001b[0m\n\u001b[1;32m     45\u001b[0m         \u001b[0mgray\u001b[0m \u001b[0;34m=\u001b[0m \u001b[0mcv2\u001b[0m\u001b[0;34m.\u001b[0m\u001b[0mcvtColor\u001b[0m\u001b[0;34m(\u001b[0m\u001b[0mframe\u001b[0m\u001b[0;34m,\u001b[0m \u001b[0mcv2\u001b[0m\u001b[0;34m.\u001b[0m\u001b[0mCOLOR_BGR2GRAY\u001b[0m\u001b[0;34m)\u001b[0m\u001b[0;34m\u001b[0m\u001b[0;34m\u001b[0m\u001b[0m\n",
      "\u001b[0;31mKeyboardInterrupt\u001b[0m: "
     ]
    }
   ],
   "source": [
    "#cap = cv2.VideoCapture('moviepy/media/video_with_failing_audio.mp4')\n",
    "cap = cv2.VideoCapture(0)\n",
    "cap.set(cv2.CAP_PROP_FOURCC,cv2.VideoWriter_fourcc('M','J','P','G'))\n",
    "fourcc = cv2.VideoWriter_fourcc(*'XVID')\n",
    "# out = cv2.VideoWriter('output.avi',fourcc, 20.0, (640,480))\n",
    "RECORDING = False\n",
    "VIDNUMBER = 0\n",
    "GRAY = False\n",
    "outname = f'output.avi'\n",
    "listener.subscribe('rpi-input')\n",
    "# settings = Effects(False, None, RGBA(0, 0, 0, 1))\n",
    "settings = {\n",
    "    'grayscale' : False,\n",
    "    'text' : None,\n",
    "    'meter': 0.0,\n",
    "    'mirror': False,\n",
    "    'eval' : None\n",
    "}        \n",
    "def get_new_settings(old, raw_data):\n",
    "    new = json.loads(raw_data)\n",
    "    return {\n",
    "        'grayscale' : (not old['grayscale']) if new.get('graytoggle') else old['grayscale'],\n",
    "        'mirror' : (not old['mirror']) if new.get('flip') else old['mirror'],\n",
    "        'text' : new.get('text', old['text']),\n",
    "        'meter' : new.get('meter', old['meter']),\n",
    "        'eval' : new.get('eval')\n",
    "    }\n",
    "\n",
    "def apply_effects(settings, frame):\n",
    "    if settings['grayscale']:\n",
    "        frame = cv2.cvtColor(frame, cv2.COLOR_BGR2GRAY)\n",
    "    if settings['mirror']:\n",
    "        frame = cv2.flip(frame, 1)\n",
    "    if settings['text']:\n",
    "        frame = cv2.text(text)\n",
    "    if settings['eval']:\n",
    "        frame = eval(settings['eval'])\n",
    "    return frame\n",
    "        \n",
    "        \n",
    "while(cap.isOpened()):\n",
    "\n",
    "    ret, raw_frame = cap.read()\n",
    "    if ret:\n",
    "        gray = cv2.cvtColor(frame, cv2.COLOR_BGR2GRAY)\n",
    "        faces = faceCascade.detectMultiScale(\n",
    "            gray,\n",
    "            scaleFactor=1.1,\n",
    "            minNeighbors=5,\n",
    "            minSize=(30, 30),\n",
    "            flags=cv2.cv.CV_HAAR_SCALE_IMAGE\n",
    "        )\n",
    "    \n",
    "        # Draw a rectangle around the faces\n",
    "        for (x, y, w, h) in faces:\n",
    "            cv2.rectangle(frame, (x, y), (x+w, y+h), (0, 255, 0), 2)\n",
    "        msg = listener.get_message()\n",
    "        if msg: print(msg)\n",
    "        if msg and msg.get('type') == 'message':\n",
    "            data, channel, msg_type = msg['data'], msg['channel'], msg['type']\n",
    "            settings = get_new_settings(settings, data)\n",
    "            print(f'New Settings: {settings}')\n",
    "        frame = apply_effects(settings, raw_frame)\n",
    "        cv2.imshow(\"Image\", frame)\n",
    "        if RECORDING:\n",
    "            out.write(frame)\n",
    "    else:\n",
    "       print('no video')\n",
    "       cap.set(cv2.CAP_PROP_POS_FRAMES, 0)\n",
    "    key = cv2.waitKey(1)\n",
    "    if key & 0xFF == ord('q'):\n",
    "        break\n",
    "\n",
    "    elif key & 0xFF == ord('r'):\n",
    "       # cap.set(cv2.CAP_PROP_POS_FRAMES, 0)\n",
    "        RECORDING = not RECORDING\n",
    "        if RECORDING:\n",
    "            VIDNUMBER += 1\n",
    "            outname = f'output-{VIDNUMBER}.avi'\n",
    "            out = cv2.VideoWriter(outname,fourcc, 20.0, (640,480))\n",
    "        else:\n",
    "            out.release()\n",
    "\n",
    "cap.release()"
   ]
  },
  {
   "cell_type": "code",
   "execution_count": 9,
   "metadata": {},
   "outputs": [],
   "source": [
    "cap.release()"
   ]
  },
  {
   "cell_type": "code",
   "execution_count": 6,
   "metadata": {},
   "outputs": [
    {
     "data": {
      "text/plain": [
       "'/Users/averagehat/video-synth/rpi/opencv'"
      ]
     },
     "execution_count": 6,
     "metadata": {},
     "output_type": "execute_result"
    }
   ],
   "source": [
    "pwd"
   ]
  },
  {
   "cell_type": "markdown",
   "metadata": {},
   "source": [
    "type: One of the following: 'subscribe', 'unsubscribe', 'psubscribe', 'punsubscribe', 'message', 'pmessage'\n",
    "channel: The channel [un]subscribed to or the channel a message was published to\n",
    "pattern: The pattern that matched a published message's channel. Will be None in all cases except for 'pmessage' types.\n",
    "data: The message data. With [un]subscribe messages, this value will be the number of channels and patterns the connection is currently subscribed to. With [p]message messages, this value will be the actual published message."
   ]
  },
  {
   "cell_type": "code",
   "execution_count": null,
   "metadata": {},
   "outputs": [],
   "source": [
    "\n"
   ]
  },
  {
   "cell_type": "code",
   "execution_count": null,
   "metadata": {},
   "outputs": [],
   "source": [
    "# https://stackoverflow.com/questions/18064914/how-to-use-opencv-python-to-blur-faces"
   ]
  },
  {
   "cell_type": "code",
   "execution_count": null,
   "metadata": {},
   "outputs": [],
   "source": [
    "image = cv2.imread(imagepath)\n",
    "result_image = image.copy()\n",
    "\n",
    "# Specify the trained cascade classifier\n",
    "\n",
    "\n",
    "\n",
    "# Create a cascade classifier\n",
    "face_cascade.load(face_cascade_name)\n",
    "\n",
    "#Preprocess the image\n",
    "grayimg = cv2.cvtColor(image, cv2.cv.CV_BGR2GRAY)\n",
    "grayimg = cv2.equalizeHist(grayimg)\n",
    "\n",
    "#Run the classifiers\n",
    "faces = face_cascade.detectMultiScale(grayimg, 1.1, 2, 0|cv2.cv.CV_HAAR_SCALE_IMAGE, (30, 30))\n",
    "\n",
    "print \"Faces detected\"\n",
    "\n",
    "if len(faces) != 0:         # If there are faces in the images\n",
    "    for f in faces:         # For each face in the image\n",
    "    img[startX:endX, startY:endY] = cv2.blur(img[startX:endX, startY:endY], (23, 23))\n",
    "\n",
    "        # Get the origin co-ordinates and the length and width till where the face extends\n",
    "        x, y, w, h = f\n",
    "\n",
    "        # get the rectangle img around all the faces\n",
    "        cv2.rectangle(image, (x,y), (x+w,y+h), (255,255,0), 5)\n",
    "        sub_face = image[y:y+h, x:x+w]\n",
    "        # apply a gaussian blur on this new recangle image\n",
    "        sub_face = cv2.GaussianBlur(sub_face,(23, 23), 30)\n",
    "        # merge this blurry rectangle to our final image\n",
    "        result_image[y:y+sub_face.shape[0], x:x+sub_face.shape[1]] = sub_face\n",
    "        face_file_name = \"./face_\" + str(y) + \".jpg\"\n",
    "        cv2.imwrite(face_file_name, sub_face)\n"
   ]
  },
  {
   "cell_type": "code",
   "execution_count": null,
   "metadata": {},
   "outputs": [],
   "source": [
    "\n",
    "#listener.unsubscribe('rpi-input')\n",
    "# def handler()\n",
    "from dataclasses import dataclass\n",
    "\n",
    "@dataclass\n",
    "class RGBA:\n",
    "    r: float\n",
    "    g: float\n",
    "    b: float\n",
    "    a: float\n",
    "        \n",
    "from typing import Tuple\n",
    "        \n",
    "@dataclass\n",
    "class Effects:\n",
    "    gray: bool\n",
    "    text: str\n",
    "    rgba: RGBA"
   ]
  }
 ],
 "metadata": {
  "kernelspec": {
   "display_name": "Python 3",
   "language": "python",
   "name": "python3"
  },
  "language_info": {
   "codemirror_mode": {
    "name": "ipython",
    "version": 3
   },
   "file_extension": ".py",
   "mimetype": "text/x-python",
   "name": "python",
   "nbconvert_exporter": "python",
   "pygments_lexer": "ipython3",
   "version": "3.8.0"
  }
 },
 "nbformat": 4,
 "nbformat_minor": 2
}
